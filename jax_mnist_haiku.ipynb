{
 "cells": [
  {
   "cell_type": "code",
   "execution_count": 2,
   "metadata": {},
   "outputs": [],
   "source": [
    "import numpy as np\n",
    "import pandas as pd\n",
    "import matplotlib.pyplot as plt\n",
    "from functools import partial\n",
    "import jax\n",
    "import jax.numpy as jnp\n",
    "import haiku as hk\n",
    "from jax import random\n",
    "from jax import nn\n",
    "from jax import vmap\n",
    "from jax import grad\n",
    "\n",
    "import tensorflow as tf\n",
    "from jax.experimental import jax2tf\n",
    "import tf2onnx\n",
    "import onnx\n",
    "import onnxruntime as ort"
   ]
  },
  {
   "cell_type": "code",
   "execution_count": 54,
   "metadata": {},
   "outputs": [],
   "source": [
    "data_df = pd.read_csv('./data/train.csv')\n",
    "\n",
    "np.random.shuffle(data_df.values)\n",
    "m, n = data_df.shape\n",
    "Y = jnp.array(data_df[\"label\"])\n",
    "data_df = data_df.drop(\"label\", axis=1)\n",
    "X = jnp.array(data_df)\n",
    "# Reshape from flattened pixels into [C, H, W] format for tensorrt inferencing\n",
    "X = X.reshape(42000, 1, 28, 28)\n",
    "\n",
    "X_train = X[1000:]\n",
    "X_train = X_train / 255.\n",
    "Y_train = Y[1000:]\n",
    "\n",
    "X_val = X[:1000]\n",
    "X_val = X_val / 255.\n",
    "Y_val = Y[:1000]"
   ]
  },
  {
   "cell_type": "code",
   "execution_count": 55,
   "metadata": {},
   "outputs": [
    {
     "data": {
      "text/plain": [
       "(42000, 1, 28, 28)"
      ]
     },
     "execution_count": 55,
     "metadata": {},
     "output_type": "execute_result"
    }
   ],
   "source": [
    "X.shape"
   ]
  },
  {
   "cell_type": "code",
   "execution_count": 50,
   "metadata": {},
   "outputs": [
    {
     "data": {
      "text/plain": [
       "(42000, 1, 28, 28)"
      ]
     },
     "execution_count": 50,
     "metadata": {},
     "output_type": "execute_result"
    }
   ],
   "source": [
    "X.reshape(42000, 1, 28, 28).shape\n",
    "Y.reshape(42000, 1, 28, 28).shape"
   ]
  },
  {
   "cell_type": "code",
   "execution_count": 83,
   "metadata": {},
   "outputs": [],
   "source": [
    "def _forward_fn(x):\n",
    "    mlp = hk.Sequential([\n",
    "        hk.Flatten(),\n",
    "        hk.Linear(10), jax.nn.relu,\n",
    "        hk.Linear(10), jax.nn.softmax\n",
    "    ])\n",
    "    return mlp(x)"
   ]
  },
  {
   "cell_type": "code",
   "execution_count": 84,
   "metadata": {},
   "outputs": [],
   "source": [
    "forward_fn = hk.transform(_forward_fn)"
   ]
  },
  {
   "cell_type": "code",
   "execution_count": 88,
   "metadata": {},
   "outputs": [
    {
     "name": "stdout",
     "output_type": "stream",
     "text": [
      "linear\n",
      "Weights : (784, 10), Biases : (10,)\n",
      "\n",
      "linear_1\n",
      "Weights : (10, 10), Biases : (10,)\n",
      "\n"
     ]
    }
   ],
   "source": [
    "dummy_x = X_train[:5]\n",
    "rng_key = random.PRNGKey(64)\n",
    "\n",
    "initial_params = forward_fn.init(rng=rng_key, x=dummy_x)\n",
    "\n",
    "for layer_name, weights in initial_params.items():\n",
    "    print(layer_name)\n",
    "    print(\"Weights : {}, Biases : {}\\n\".format(initial_params[layer_name][\"w\"].shape, initial_params[layer_name][\"b\"].shape))"
   ]
  },
  {
   "cell_type": "code",
   "execution_count": 89,
   "metadata": {},
   "outputs": [],
   "source": [
    "def one_hot(x, k, dtype=jnp.float32):\n",
    "    \"\"\"Create a one-hot encoding of x of size k.\"\"\"\n",
    "    return jnp.array(x[:, None] == jnp.arange(k), dtype)\n",
    "\n",
    "def loss_fn(params, X, Y):\n",
    "    A2 = forward_fn.apply(params, rng_key, X)\n",
    "    one_hot_Y = one_hot(Y, 10)\n",
    "    loss = -jnp.sum(one_hot_Y * jnp.log(A2)) / m\n",
    "    return loss\n",
    "\n",
    "\n",
    "def update_rule(param, update):\n",
    "    return param - 0.1 * update\n",
    "\n",
    "def update_params(params, alpha, X, Y):\n",
    "    grads = grad(loss_fn, argnums=0)(params, X, Y)\n",
    "    params = jax.tree_util.tree_map(update_rule, params, grads)\n",
    "    return params"
   ]
  },
  {
   "cell_type": "code",
   "execution_count": 90,
   "metadata": {},
   "outputs": [],
   "source": [
    "def get_predictions(A2):\n",
    "    return jnp.argmax(A2, axis=1)\n",
    "\n",
    "def get_accuracy(predictions, Y):\n",
    "    return jnp.mean(predictions == Y)\n",
    "\n",
    "def gradient_descent(X, Y, alpha, iterations):\n",
    "    rng = jax.random.PRNGKey(42)\n",
    "    params = forward_fn.init(rng=rng, x=X)\n",
    "    for i in range(iterations):\n",
    "        params = update_params(params, alpha, X, Y)\n",
    "        if i % 10 == 0:\n",
    "            print(\"Iteration: \", i)\n",
    "            A2 = forward_fn.apply(params, rng, X)\n",
    "            predictions = get_predictions(A2)\n",
    "            print(get_accuracy(predictions, Y))\n",
    "    return params"
   ]
  },
  {
   "cell_type": "code",
   "execution_count": 91,
   "metadata": {},
   "outputs": [
    {
     "name": "stdout",
     "output_type": "stream",
     "text": [
      "Iteration:  0\n",
      "0.1612439\n",
      "Iteration:  10\n",
      "0.35799998\n",
      "Iteration:  20\n",
      "0.59926826\n",
      "Iteration:  30\n",
      "0.6922439\n",
      "Iteration:  40\n",
      "0.727\n",
      "Iteration:  50\n",
      "0.75258535\n",
      "Iteration:  60\n",
      "0.776878\n",
      "Iteration:  70\n",
      "0.79597557\n",
      "Iteration:  80\n",
      "0.8117317\n",
      "Iteration:  90\n",
      "0.8239024\n",
      "Iteration:  100\n",
      "0.83402437\n",
      "Iteration:  110\n",
      "0.84197557\n",
      "Iteration:  120\n",
      "0.848439\n",
      "Iteration:  130\n",
      "0.8546097\n",
      "Iteration:  140\n",
      "0.85924387\n",
      "Iteration:  150\n",
      "0.86375606\n",
      "Iteration:  160\n",
      "0.8674878\n",
      "Iteration:  170\n",
      "0.87053657\n",
      "Iteration:  180\n",
      "0.87365854\n",
      "Iteration:  190\n",
      "0.8766829\n",
      "Iteration:  200\n",
      "0.8798536\n",
      "Iteration:  210\n",
      "0.8826829\n",
      "Iteration:  220\n",
      "0.884439\n",
      "Iteration:  230\n",
      "0.8862439\n",
      "Iteration:  240\n",
      "0.887878\n",
      "Iteration:  250\n",
      "0.8894146\n",
      "Iteration:  260\n",
      "0.891\n",
      "Iteration:  270\n",
      "0.8924146\n",
      "Iteration:  280\n",
      "0.8938536\n",
      "Iteration:  290\n",
      "0.8947317\n",
      "Iteration:  300\n",
      "0.8963658\n",
      "Iteration:  310\n",
      "0.8972195\n",
      "Iteration:  320\n",
      "0.8981707\n",
      "Iteration:  330\n",
      "0.8987561\n",
      "Iteration:  340\n",
      "0.89958537\n",
      "Iteration:  350\n",
      "0.9004146\n",
      "Iteration:  360\n",
      "0.9012195\n",
      "Iteration:  370\n",
      "0.9018536\n",
      "Iteration:  380\n",
      "0.9027561\n",
      "Iteration:  390\n",
      "0.9035122\n",
      "Iteration:  400\n",
      "0.9041463\n",
      "Iteration:  410\n",
      "0.90482926\n",
      "Iteration:  420\n",
      "0.9054878\n",
      "Iteration:  430\n",
      "0.905878\n",
      "Iteration:  440\n",
      "0.9063902\n",
      "Iteration:  450\n",
      "0.9070975\n",
      "Iteration:  460\n",
      "0.9077561\n",
      "Iteration:  470\n",
      "0.90804875\n",
      "Iteration:  480\n",
      "0.90880483\n",
      "Iteration:  490\n",
      "0.90936583\n"
     ]
    }
   ],
   "source": [
    "params = gradient_descent(X_train, Y_train, 0.10, 500)"
   ]
  },
  {
   "cell_type": "code",
   "execution_count": 92,
   "metadata": {},
   "outputs": [],
   "source": [
    "def make_predictions(X, params):\n",
    "    rng = jax.random.PRNGKey(42)\n",
    "    A2 = forward_fn.apply(params, rng, X)\n",
    "    predictions = get_predictions(A2)\n",
    "    return predictions\n",
    "\n",
    "def test_prediction(index, params):\n",
    "    current_image = X_train[None, index]\n",
    "    prediction = make_predictions(X_train[None, index], params)\n",
    "    label = Y_train[index]\n",
    "    print(\"Prediction: \", prediction)\n",
    "    print(\"Label: \", label)\n",
    "    \n",
    "    current_image = current_image.reshape((28, 28)) * 255\n",
    "    plt.gray()\n",
    "    plt.imshow(current_image, interpolation='nearest')\n",
    "    plt.show()"
   ]
  },
  {
   "cell_type": "code",
   "execution_count": 93,
   "metadata": {},
   "outputs": [
    {
     "name": "stdout",
     "output_type": "stream",
     "text": [
      "Prediction:  [8]\n",
      "Label:  8\n"
     ]
    },
    {
     "data": {
      "image/png": "[encoded data removed]",
      "text/plain": [
       "<Figure size 640x480 with 1 Axes>"
      ]
     },
     "metadata": {},
     "output_type": "display_data"
    },
    {
     "name": "stdout",
     "output_type": "stream",
     "text": [
      "Prediction:  [2]\n",
      "Label:  2\n"
     ]
    },
    {
     "data": {
      "image/png": "[encoded data removed]",
      "text/plain": [
       "<Figure size 640x480 with 1 Axes>"
      ]
     },
     "metadata": {},
     "output_type": "display_data"
    },
    {
     "name": "stdout",
     "output_type": "stream",
     "text": [
      "Prediction:  [6]\n",
      "Label:  6\n"
     ]
    },
    {
     "data": {
      "image/png": "[encoded data removed]",
      "text/plain": [
       "<Figure size 640x480 with 1 Axes>"
      ]
     },
     "metadata": {},
     "output_type": "display_data"
    },
    {
     "name": "stdout",
     "output_type": "stream",
     "text": [
      "Prediction:  [0]\n",
      "Label:  0\n"
     ]
    },
    {
     "data": {
      "image/png": "[encoded data removed]",
      "text/plain": [
       "<Figure size 640x480 with 1 Axes>"
      ]
     },
     "metadata": {},
     "output_type": "display_data"
    }
   ],
   "source": [
    "test_prediction(0, params)\n",
    "test_prediction(1, params)\n",
    "test_prediction(2, params)\n",
    "test_prediction(3, params)"
   ]
  },
  {
   "cell_type": "code",
   "execution_count": 94,
   "metadata": {},
   "outputs": [
    {
     "data": {
      "text/plain": [
       "DeviceArray(0.9110001, dtype=float32)"
      ]
     },
     "execution_count": 94,
     "metadata": {},
     "output_type": "execute_result"
    }
   ],
   "source": [
    "val_predictions = make_predictions(X_val, params)\n",
    "get_accuracy(val_predictions, Y_val)"
   ]
  },
  {
   "cell_type": "code",
   "execution_count": 95,
   "metadata": {},
   "outputs": [],
   "source": [
    "input_example = X_train[None, 0].reshape(1, 1, 28, 28)"
   ]
  },
  {
   "cell_type": "code",
   "execution_count": 96,
   "metadata": {},
   "outputs": [
    {
     "data": {
      "text/plain": [
       "DeviceArray([[1.65264704e-04, 7.90859107e-03, 1.62637513e-02,\n",
       "              3.52185518e-01, 4.24381054e-04, 1.03837345e-02,\n",
       "              4.48229781e-04, 8.14187527e-02, 4.60044712e-01,\n",
       "              7.07571208e-02]], dtype=float32)"
      ]
     },
     "execution_count": 96,
     "metadata": {},
     "output_type": "execute_result"
    }
   ],
   "source": [
    "forward = partial(forward_fn.apply, params, rng_key)\n",
    "out_jax = forward(input_example)\n",
    "out_jax"
   ]
  },
  {
   "cell_type": "code",
   "execution_count": 97,
   "metadata": {},
   "outputs": [],
   "source": [
    "# NOTE: We need enable_xla=False because tf2onnx is not aware of some XLA\n",
    "#       specific TF ops (e.g. DotGeneral).\n",
    "forward_tf = tf.function(jax2tf.convert(forward, enable_xla=False))"
   ]
  },
  {
   "cell_type": "code",
   "execution_count": 109,
   "metadata": {},
   "outputs": [
    {
     "data": {
      "text/plain": [
       "[TensorSpec(shape=(1, 1, 28, 28), dtype=tf.float32, name='Input3')]"
      ]
     },
     "execution_count": 109,
     "metadata": {},
     "output_type": "execute_result"
    }
   ],
   "source": [
    "input_signature = [tf.TensorSpec(input_example.shape, input_example.dtype, name=\"Input3\")]\n",
    "input_signature"
   ]
  },
  {
   "cell_type": "code",
   "execution_count": 110,
   "metadata": {},
   "outputs": [],
   "source": [
    "model_proto, external_tensor_storage = tf2onnx.convert.from_function(forward_tf, input_signature)"
   ]
  },
  {
   "cell_type": "code",
   "execution_count": 161,
   "metadata": {},
   "outputs": [],
   "source": [
    "onnx_model = onnx.load_model_from_string(model_proto.SerializeToString())\n",
    "onnx.checker.check_model(onnx_model)"
   ]
  },
  {
   "cell_type": "code",
   "execution_count": 162,
   "metadata": {},
   "outputs": [
    {
     "name": "stdout",
     "output_type": "stream",
     "text": [
      "------------------------------------------------------------\n",
      "jax2tf_unknown_/sequential/jit_true_divide_/truediv\n",
      "['jax2tf_unknown_/sequential/jit__lambda__/Exp:0', 'jax2tf_unknown_/sequential/jit__reduce_sum_/BroadcastTo:0']\n",
      "['Identity_1:0']\n",
      "------------------------------------------------------------\n",
      "name: \"Identity_1:0\"\n",
      "type {\n",
      "  tensor_type {\n",
      "    elem_type: 1\n",
      "    shape {\n",
      "      dim {\n",
      "        dim_value: 1\n",
      "      }\n",
      "      dim {\n",
      "        dim_value: 10\n",
      "      }\n",
      "    }\n",
      "  }\n",
      "}\n",
      "\n"
     ]
    }
   ],
   "source": [
    "endpoint_names = ['Identity_1:0']\n",
    "\n",
    "for i in range(len(onnx_model.graph.node)):\n",
    "\tfor j in range(len(onnx_model.graph.node[i].output)):\n",
    "\t\tif onnx_model.graph.node[i].output[j] in endpoint_names:\n",
    "\t\t\tprint('-'*60)\n",
    "\t\t\tprint(onnx_model.graph.node[i].name)\n",
    "\t\t\tprint(onnx_model.graph.node[i].input)\n",
    "\t\t\tprint(onnx_model.graph.node[i].output)\n",
    "\n",
    "\t\t\tonnx_model.graph.node[i].output[j] = \"Plus214_Output_0\"\n",
    "\n",
    "for i in range(len(onnx_model.graph.output)):\n",
    "\tif onnx_model.graph.output[i].name in endpoint_names:\n",
    "\t\tprint('-'*60)\n",
    "\t\tprint(onnx_model.graph.output[i])\n",
    "\t\tonnx_model.graph.output[i].name = \"Plus214_Output_0\""
   ]
  },
  {
   "cell_type": "code",
   "execution_count": 163,
   "metadata": {},
   "outputs": [
    {
     "data": {
      "text/plain": [
       "[name: \"Plus214_Output_0\"\n",
       "type {\n",
       "  tensor_type {\n",
       "    elem_type: 1\n",
       "    shape {\n",
       "      dim {\n",
       "        dim_value: 1\n",
       "      }\n",
       "      dim {\n",
       "        dim_value: 10\n",
       "      }\n",
       "    }\n",
       "  }\n",
       "}\n",
       "]"
      ]
     },
     "execution_count": 163,
     "metadata": {},
     "output_type": "execute_result"
    }
   ],
   "source": [
    "onnx_model.graph.output"
   ]
  },
  {
   "cell_type": "code",
   "execution_count": 164,
   "metadata": {},
   "outputs": [],
   "source": [
    "x_np = jax.device_get(input_example)"
   ]
  },
  {
   "cell_type": "code",
   "execution_count": 165,
   "metadata": {},
   "outputs": [
    {
     "data": {
      "text/plain": [
       "array([[1.6526482e-04, 7.9085967e-03, 1.6263761e-02, 3.5218531e-01,\n",
       "        4.2438076e-04, 1.0383740e-02, 4.4822984e-04, 8.1418768e-02,\n",
       "        4.6004480e-01, 7.0757098e-02]], dtype=float32)"
      ]
     },
     "execution_count": 165,
     "metadata": {},
     "output_type": "execute_result"
    }
   ],
   "source": [
    "sess = ort.InferenceSession(model_proto.SerializeToString())\n",
    "out_ort, = sess.run(None, {\"Input3\": x_np})\n",
    "out_ort"
   ]
  },
  {
   "cell_type": "code",
   "execution_count": 166,
   "metadata": {},
   "outputs": [
    {
     "data": {
      "text/plain": [
       "DeviceArray([[1.65264704e-04, 7.90859107e-03, 1.62637513e-02,\n",
       "              3.52185518e-01, 4.24381054e-04, 1.03837345e-02,\n",
       "              4.48229781e-04, 8.14187527e-02, 4.60044712e-01,\n",
       "              7.07571208e-02]], dtype=float32)"
      ]
     },
     "execution_count": 166,
     "metadata": {},
     "output_type": "execute_result"
    }
   ],
   "source": [
    "out_jax"
   ]
  },
  {
   "cell_type": "code",
   "execution_count": 167,
   "metadata": {},
   "outputs": [],
   "source": [
    "np.testing.assert_allclose(out_ort, out_jax, rtol=0.00001)"
   ]
  },
  {
   "cell_type": "code",
   "execution_count": 168,
   "metadata": {},
   "outputs": [
    {
     "name": "stdout",
     "output_type": "stream",
     "text": [
      "inputs=['Input3'], outputs=['Identity_1:0']\n"
     ]
    }
   ],
   "source": [
    "input_names = [i.name for i in sess.get_inputs()]\n",
    "output_names = [o.name for o in sess.get_outputs()]\n",
    "print(\"inputs=%r, outputs=%r\" % (input_names, output_names))"
   ]
  },
  {
   "cell_type": "code",
   "execution_count": 169,
   "metadata": {},
   "outputs": [],
   "source": [
    "onnx.save(onnx_model, \"./data/haiku_model.onnx\")"
   ]
  }
 ],
 "metadata": {
  "kernelspec": {
   "display_name": "Python 3.10.4 ('jax0.3')",
   "language": "python",
   "name": "python3"
  },
  "language_info": {
   "codemirror_mode": {
    "name": "ipython",
    "version": 3
   },
   "file_extension": ".py",
   "mimetype": "text/x-python",
   "name": "python",
   "nbconvert_exporter": "python",
   "pygments_lexer": "ipython3",
   "version": "3.10.4"
  },
  "orig_nbformat": 4,
  "vscode": {
   "interpreter": {
    "hash": "9cc3e2285d016734416124682a618282b04f438db98398baa547b8d92dfbc772"
   }
  }
 },
 "nbformat": 4,
 "nbformat_minor": 2
}
